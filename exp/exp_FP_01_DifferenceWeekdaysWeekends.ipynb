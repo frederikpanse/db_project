{
  "cells": [
    {
      "cell_type": "code",
      "execution_count": 1,
      "id": "9456cfe5",
      "metadata": {},
      "outputs": [
        {
          "name": "stderr",
          "output_type": "stream",
          "text": [
            "/var/folders/sp/pv6m55cn0cnf_540z_5jtfgr0000gn/T/ipykernel_5246/2162656668.py:1: DeprecationWarning: \n",
            "Pyarrow will become a required dependency of pandas in the next major release of pandas (pandas 3.0),\n",
            "(to allow more performant data types, such as the Arrow string type, and better interoperability with other libraries)\n",
            "but was not found to be installed on your system.\n",
            "If this would cause problems for you,\n",
            "please provide us feedback at https://github.com/pandas-dev/pandas/issues/54466\n",
            "        \n",
            "  import pandas as pd\n"
          ]
        }
      ],
      "source": [
        "import pandas as pd\n",
        "import numpy as np"
      ]
    },
    {
      "cell_type": "code",
      "execution_count": 2,
      "id": "743e46ea",
      "metadata": {},
      "outputs": [
        {
          "name": "stdout",
          "output_type": "stream",
          "text": [
            "757228\n",
            "['DEUTSCHLAND']\n",
            "757007\n",
            "3112\n",
            "3105\n",
            "3112\n"
          ]
        },
        {
          "name": "stderr",
          "output_type": "stream",
          "text": [
            "/Users/frederikpanse/Desktop/db_project/venv/lib/python3.11/site-packages/IPython/core/events.py:82: UserWarning: Glyph 132 (\\x84) missing from current font.\n",
            "  func(*args, **kwargs)\n",
            "/Users/frederikpanse/Desktop/db_project/venv/lib/python3.11/site-packages/IPython/core/events.py:82: UserWarning: Glyph 150 (\\x96) missing from current font.\n",
            "  func(*args, **kwargs)\n",
            "/Users/frederikpanse/Desktop/db_project/venv/lib/python3.11/site-packages/IPython/core/pylabtools.py:152: UserWarning: Glyph 132 (\\x84) missing from current font.\n",
            "  fig.canvas.print_figure(bytes_io, **kw)\n",
            "/Users/frederikpanse/Desktop/db_project/venv/lib/python3.11/site-packages/IPython/core/pylabtools.py:152: UserWarning: Glyph 150 (\\x96) missing from current font.\n",
            "  fig.canvas.print_figure(bytes_io, **kw)\n"
          ]
        },
        {
          "data": {
            "image/png": "[encoded data removed]",
            "text/plain": [
              "<Figure size 640x480 with 1 Axes>"
            ]
          },
          "metadata": {},
          "output_type": "display_data"
        }
      ],
      "source": [
        "from ipynb.fs.full.exploration_cleaning import get_data, get_paths\n",
        "data = get_data()"
      ]
    },
    {
      "cell_type": "markdown",
      "id": "ababdd7d",
      "metadata": {},
      "source": [
        "### Difference between weekday and weekend."
      ]
    },
    {
      "cell_type": "code",
      "execution_count": 3,
      "id": "727728f6",
      "metadata": {},
      "outputs": [
        {
          "name": "stderr",
          "output_type": "stream",
          "text": [
            "/var/folders/sp/pv6m55cn0cnf_540z_5jtfgr0000gn/T/ipykernel_5246/3191454190.py:2: UserWarning: Parsing dates in %d.%m.%Y %H:%M format when dayfirst=False (the default) was specified. Pass `dayfirst=True` or specify a format to silence this warning.\n",
            "  data['Date'] = pd.to_datetime(data['Date'], yearfirst = True)\n"
          ]
        },
        {
          "data": {
            "text/html": [
              "<div>\n",
              "<style scoped>\n",
              "    .dataframe tbody tr th:only-of-type {\n",
              "        vertical-align: middle;\n",
              "    }\n",
              "\n",
              "    .dataframe tbody tr th {\n",
              "        vertical-align: top;\n",
              "    }\n",
              "\n",
              "    .dataframe thead th {\n",
              "        text-align: right;\n",
              "    }\n",
              "</style>\n",
              "<table border=\"1\" class=\"dataframe\">\n",
              "  <thead>\n",
              "    <tr style=\"text-align: right;\">\n",
              "      <th></th>\n",
              "      <th>Station or stop</th>\n",
              "      <th>Date</th>\n",
              "      <th>Number of train rides</th>\n",
              "      <th>Minutes of delay</th>\n",
              "      <th>Name</th>\n",
              "      <th>Country</th>\n",
              "      <th>Coordinate Latitude</th>\n",
              "      <th>Coordinate Longitude</th>\n",
              "      <th>dayofweek</th>\n",
              "    </tr>\n",
              "  </thead>\n",
              "  <tbody>\n",
              "    <tr>\n",
              "      <th>0</th>\n",
              "      <td>80197079</td>\n",
              "      <td>2016-03-16</td>\n",
              "      <td>39</td>\n",
              "      <td>49</td>\n",
              "      <td>KINDSBACH</td>\n",
              "      <td>DEUTSCHLAND</td>\n",
              "      <td>49.420450</td>\n",
              "      <td>7.613668</td>\n",
              "      <td>2</td>\n",
              "    </tr>\n",
              "    <tr>\n",
              "      <th>1</th>\n",
              "      <td>80160168</td>\n",
              "      <td>2016-11-01</td>\n",
              "      <td>12</td>\n",
              "      <td>0</td>\n",
              "      <td>NIEDERTREBRA</td>\n",
              "      <td>DEUTSCHLAND</td>\n",
              "      <td>51.065500</td>\n",
              "      <td>11.580700</td>\n",
              "      <td>1</td>\n",
              "    </tr>\n",
              "    <tr>\n",
              "      <th>2</th>\n",
              "      <td>80105122</td>\n",
              "      <td>2016-04-30</td>\n",
              "      <td>16</td>\n",
              "      <td>2</td>\n",
              "      <td>HAMM FELDMARK</td>\n",
              "      <td>DEUTSCHLAND</td>\n",
              "      <td>51.697611</td>\n",
              "      <td>7.787870</td>\n",
              "      <td>5</td>\n",
              "    </tr>\n",
              "    <tr>\n",
              "      <th>3</th>\n",
              "      <td>80190793</td>\n",
              "      <td>2016-07-31</td>\n",
              "      <td>14</td>\n",
              "      <td>0</td>\n",
              "      <td>LUDWIGSHAFEN (RHEIN) BASF</td>\n",
              "      <td>DEUTSCHLAND</td>\n",
              "      <td>49.510682</td>\n",
              "      <td>8.428922</td>\n",
              "      <td>6</td>\n",
              "    </tr>\n",
              "    <tr>\n",
              "      <th>4</th>\n",
              "      <td>80231464</td>\n",
              "      <td>2016-05-04</td>\n",
              "      <td>10</td>\n",
              "      <td>2</td>\n",
              "      <td>BURGKEMNITZ</td>\n",
              "      <td>DEUTSCHLAND</td>\n",
              "      <td>51.689400</td>\n",
              "      <td>12.407990</td>\n",
              "      <td>2</td>\n",
              "    </tr>\n",
              "  </tbody>\n",
              "</table>\n",
              "</div>"
            ],
            "text/plain": [
              "   Station or stop       Date  Number of train rides  Minutes of delay  \\\n",
              "0         80197079 2016-03-16                     39                49   \n",
              "1         80160168 2016-11-01                     12                 0   \n",
              "2         80105122 2016-04-30                     16                 2   \n",
              "3         80190793 2016-07-31                     14                 0   \n",
              "4         80231464 2016-05-04                     10                 2   \n",
              "\n",
              "                        Name      Country  Coordinate Latitude  \\\n",
              "0                  KINDSBACH  DEUTSCHLAND            49.420450   \n",
              "1               NIEDERTREBRA  DEUTSCHLAND            51.065500   \n",
              "2              HAMM FELDMARK  DEUTSCHLAND            51.697611   \n",
              "3  LUDWIGSHAFEN (RHEIN) BASF  DEUTSCHLAND            49.510682   \n",
              "4                BURGKEMNITZ  DEUTSCHLAND            51.689400   \n",
              "\n",
              "   Coordinate Longitude  dayofweek  \n",
              "0              7.613668          2  \n",
              "1             11.580700          1  \n",
              "2              7.787870          5  \n",
              "3              8.428922          6  \n",
              "4             12.407990          2  "
            ]
          },
          "execution_count": 3,
          "metadata": {},
          "output_type": "execute_result"
        }
      ],
      "source": [
        "# Turn strings in to pandas date.\n",
        "data['Date'] = pd.to_datetime(data['Date'], yearfirst = True)\n",
        "# Get the day of the week for each date.\n",
        "data['dayofweek'] = data['Date'].dt.dayofweek\n",
        "data.head()"
      ]
    },
    {
      "cell_type": "code",
      "execution_count": 4,
      "id": "11f0bab2",
      "metadata": {},
      "outputs": [],
      "source": [
        "data_weekday = data.loc[data['dayofweek'].isin([0, 1, 2, 3, 4])]\n",
        "data_weekend = data.loc[data['dayofweek'].isin([5, 6])]"
      ]
    },
    {
      "cell_type": "code",
      "execution_count": 5,
      "id": "5c82b25f",
      "metadata": {},
      "outputs": [
        {
          "data": {
            "text/plain": [
              "<Axes: >"
            ]
          },
          "execution_count": 5,
          "metadata": {},
          "output_type": "execute_result"
        },
        {
          "data": {
            "image/png": "[encoded data removed]",
            "text/plain": [
              "<Figure size 640x480 with 1 Axes>"
            ]
          },
          "metadata": {},
          "output_type": "display_data"
        }
      ],
      "source": [
        "data_weekday[\"Minutes of delay\"].hist(bins = 100, rwidth = 0.8, density = True, alpha = .7)\n",
        "data_weekend[\"Minutes of delay\"].hist(bins = 100, rwidth = 0.8, density = True, alpha = .7)"
      ]
    },
    {
      "cell_type": "code",
      "execution_count": 6,
      "id": "c98ed1ba",
      "metadata": {},
      "outputs": [
        {
          "data": {
            "text/html": [
              "<div>\n",
              "<style scoped>\n",
              "    .dataframe tbody tr th:only-of-type {\n",
              "        vertical-align: middle;\n",
              "    }\n",
              "\n",
              "    .dataframe tbody tr th {\n",
              "        vertical-align: top;\n",
              "    }\n",
              "\n",
              "    .dataframe thead th {\n",
              "        text-align: right;\n",
              "    }\n",
              "</style>\n",
              "<table border=\"1\" class=\"dataframe\">\n",
              "  <thead>\n",
              "    <tr style=\"text-align: right;\">\n",
              "      <th></th>\n",
              "      <th>Station or stop</th>\n",
              "      <th>Date</th>\n",
              "      <th>Number of train rides</th>\n",
              "      <th>Minutes of delay</th>\n",
              "      <th>Name</th>\n",
              "      <th>Country</th>\n",
              "      <th>Coordinate Latitude</th>\n",
              "      <th>Coordinate Longitude</th>\n",
              "      <th>dayofweek</th>\n",
              "    </tr>\n",
              "  </thead>\n",
              "  <tbody>\n",
              "    <tr>\n",
              "      <th>0</th>\n",
              "      <td>80197079</td>\n",
              "      <td>2016-03-16</td>\n",
              "      <td>39</td>\n",
              "      <td>49</td>\n",
              "      <td>KINDSBACH</td>\n",
              "      <td>DEUTSCHLAND</td>\n",
              "      <td>49.420450</td>\n",
              "      <td>7.613668</td>\n",
              "      <td>2</td>\n",
              "    </tr>\n",
              "    <tr>\n",
              "      <th>1</th>\n",
              "      <td>80160168</td>\n",
              "      <td>2016-11-01</td>\n",
              "      <td>12</td>\n",
              "      <td>0</td>\n",
              "      <td>NIEDERTREBRA</td>\n",
              "      <td>DEUTSCHLAND</td>\n",
              "      <td>51.065500</td>\n",
              "      <td>11.580700</td>\n",
              "      <td>1</td>\n",
              "    </tr>\n",
              "    <tr>\n",
              "      <th>4</th>\n",
              "      <td>80231464</td>\n",
              "      <td>2016-05-04</td>\n",
              "      <td>10</td>\n",
              "      <td>2</td>\n",
              "      <td>BURGKEMNITZ</td>\n",
              "      <td>DEUTSCHLAND</td>\n",
              "      <td>51.689400</td>\n",
              "      <td>12.407990</td>\n",
              "      <td>2</td>\n",
              "    </tr>\n",
              "    <tr>\n",
              "      <th>5</th>\n",
              "      <td>80020644</td>\n",
              "      <td>2016-10-04</td>\n",
              "      <td>34</td>\n",
              "      <td>0</td>\n",
              "      <td>HERBERTSHOFEN</td>\n",
              "      <td>DEUTSCHLAND</td>\n",
              "      <td>48.529570</td>\n",
              "      <td>10.849300</td>\n",
              "      <td>1</td>\n",
              "    </tr>\n",
              "    <tr>\n",
              "      <th>6</th>\n",
              "      <td>80042267</td>\n",
              "      <td>2016-04-15</td>\n",
              "      <td>43</td>\n",
              "      <td>116</td>\n",
              "      <td>HOSENA</td>\n",
              "      <td>DEUTSCHLAND</td>\n",
              "      <td>51.454332</td>\n",
              "      <td>14.017600</td>\n",
              "      <td>4</td>\n",
              "    </tr>\n",
              "    <tr>\n",
              "      <th>...</th>\n",
              "      <td>...</td>\n",
              "      <td>...</td>\n",
              "      <td>...</td>\n",
              "      <td>...</td>\n",
              "      <td>...</td>\n",
              "      <td>...</td>\n",
              "      <td>...</td>\n",
              "      <td>...</td>\n",
              "      <td>...</td>\n",
              "    </tr>\n",
              "    <tr>\n",
              "      <th>766023</th>\n",
              "      <td>80136234</td>\n",
              "      <td>2016-10-26</td>\n",
              "      <td>82</td>\n",
              "      <td>0</td>\n",
              "      <td>UELZEN</td>\n",
              "      <td>DEUTSCHLAND</td>\n",
              "      <td>52.964129</td>\n",
              "      <td>10.546461</td>\n",
              "      <td>2</td>\n",
              "    </tr>\n",
              "    <tr>\n",
              "      <th>766024</th>\n",
              "      <td>80100388</td>\n",
              "      <td>2016-01-29</td>\n",
              "      <td>33</td>\n",
              "      <td>2</td>\n",
              "      <td>HERNE</td>\n",
              "      <td>DEUTSCHLAND</td>\n",
              "      <td>51.542128</td>\n",
              "      <td>7.211104</td>\n",
              "      <td>4</td>\n",
              "    </tr>\n",
              "    <tr>\n",
              "      <th>766025</th>\n",
              "      <td>80143321</td>\n",
              "      <td>2016-05-30</td>\n",
              "      <td>40</td>\n",
              "      <td>0</td>\n",
              "      <td>KOLLMARSREUTE</td>\n",
              "      <td>DEUTSCHLAND</td>\n",
              "      <td>48.099070</td>\n",
              "      <td>7.887097</td>\n",
              "      <td>0</td>\n",
              "    </tr>\n",
              "    <tr>\n",
              "      <th>766026</th>\n",
              "      <td>80174508</td>\n",
              "      <td>2016-07-05</td>\n",
              "      <td>14</td>\n",
              "      <td>0</td>\n",
              "      <td>NEUKIRCHEN (B SULZBACH-ROSENBERG)</td>\n",
              "      <td>DEUTSCHLAND</td>\n",
              "      <td>49.525068</td>\n",
              "      <td>11.620659</td>\n",
              "      <td>1</td>\n",
              "    </tr>\n",
              "    <tr>\n",
              "      <th>766027</th>\n",
              "      <td>80136267</td>\n",
              "      <td>2016-02-09</td>\n",
              "      <td>84</td>\n",
              "      <td>19</td>\n",
              "      <td>KLEIN SUESTEDT</td>\n",
              "      <td>DEUTSCHLAND</td>\n",
              "      <td>52.933832</td>\n",
              "      <td>10.491081</td>\n",
              "      <td>1</td>\n",
              "    </tr>\n",
              "  </tbody>\n",
              "</table>\n",
              "<p>604074 rows × 9 columns</p>\n",
              "</div>"
            ],
            "text/plain": [
              "        Station or stop       Date  Number of train rides  Minutes of delay  \\\n",
              "0              80197079 2016-03-16                     39                49   \n",
              "1              80160168 2016-11-01                     12                 0   \n",
              "4              80231464 2016-05-04                     10                 2   \n",
              "5              80020644 2016-10-04                     34                 0   \n",
              "6              80042267 2016-04-15                     43               116   \n",
              "...                 ...        ...                    ...               ...   \n",
              "766023         80136234 2016-10-26                     82                 0   \n",
              "766024         80100388 2016-01-29                     33                 2   \n",
              "766025         80143321 2016-05-30                     40                 0   \n",
              "766026         80174508 2016-07-05                     14                 0   \n",
              "766027         80136267 2016-02-09                     84                19   \n",
              "\n",
              "                                     Name      Country  Coordinate Latitude  \\\n",
              "0                               KINDSBACH  DEUTSCHLAND            49.420450   \n",
              "1                            NIEDERTREBRA  DEUTSCHLAND            51.065500   \n",
              "4                             BURGKEMNITZ  DEUTSCHLAND            51.689400   \n",
              "5                           HERBERTSHOFEN  DEUTSCHLAND            48.529570   \n",
              "6                                  HOSENA  DEUTSCHLAND            51.454332   \n",
              "...                                   ...          ...                  ...   \n",
              "766023                             UELZEN  DEUTSCHLAND            52.964129   \n",
              "766024                              HERNE  DEUTSCHLAND            51.542128   \n",
              "766025                      KOLLMARSREUTE  DEUTSCHLAND            48.099070   \n",
              "766026  NEUKIRCHEN (B SULZBACH-ROSENBERG)  DEUTSCHLAND            49.525068   \n",
              "766027                     KLEIN SUESTEDT  DEUTSCHLAND            52.933832   \n",
              "\n",
              "        Coordinate Longitude  dayofweek  \n",
              "0                   7.613668          2  \n",
              "1                  11.580700          1  \n",
              "4                  12.407990          2  \n",
              "5                  10.849300          1  \n",
              "6                  14.017600          4  \n",
              "...                      ...        ...  \n",
              "766023             10.546461          2  \n",
              "766024              7.211104          4  \n",
              "766025              7.887097          0  \n",
              "766026             11.620659          1  \n",
              "766027             10.491081          1  \n",
              "\n",
              "[604074 rows x 9 columns]"
            ]
          },
          "execution_count": 6,
          "metadata": {},
          "output_type": "execute_result"
        }
      ],
      "source": [
        "data_weekday"
      ]
    },
    {
      "cell_type": "code",
      "execution_count": 7,
      "id": "149b81de",
      "metadata": {},
      "outputs": [],
      "source": [
        "# Calculate mean for every station by weekday or weekend\n",
        "data_weekday_mean = data_weekday.groupby('Station or stop')['Minutes of delay'].mean()\n",
        "data_weekend_mean = data_weekend.groupby('Station or stop')['Minutes of delay'].mean()\n",
        "data_by_weekday_weekend = pd.merge(data_weekday_mean, data_weekend_mean, how = \"left\", on = \"Station or stop\", suffixes = (\"_weekday\", \"_weekend\"))"
      ]
    },
    {
      "cell_type": "markdown",
      "id": "be43859e",
      "metadata": {},
      "source": [
        "### Make visualisations for each path"
      ]
    },
    {
      "cell_type": "code",
      "execution_count": 8,
      "id": "f18dac63",
      "metadata": {},
      "outputs": [],
      "source": [
        "from tueplots import bundles\n",
        "from tueplots.constants.color import rgb\n",
        "from matplotlib import ticker\n",
        "import matplotlib.pyplot as plt\n",
        "\n",
        "# set plotting stylesheet\n",
        "plt.rcParams.update(bundles.icml2022(column=\"half\", nrows=1, ncols=1, usetex=False))"
      ]
    },
    {
      "cell_type": "code",
      "execution_count": 9,
      "id": "1df73090",
      "metadata": {},
      "outputs": [],
      "source": [
        "paths = np.load('../dat/paths.npy', allow_pickle='TRUE').item()"
      ]
    },
    {
      "cell_type": "code",
      "execution_count": 10,
      "id": "4987acf8",
      "metadata": {},
      "outputs": [],
      "source": [
        "unique_stations = {}\n",
        "for key, value in paths.items():\n",
        "    stations_key = tuple(value['stations'])\n",
        "    if stations_key not in unique_stations:\n",
        "        unique_stations[stations_key] = value\n",
        "\n",
        "# If you want to convert it back to a dictionary\n",
        "unique_stations_dict = {f'path{i}': value for i, (key, value) in enumerate(unique_stations.items())}"
      ]
    },
    {
      "cell_type": "code",
      "execution_count": 11,
      "id": "9624e78d",
      "metadata": {},
      "outputs": [],
      "source": [
        "paths_sorted = sorted(unique_stations_dict.items(), key = lambda x: x[1][\"mean_delay\"])"
      ]
    },
    {
      "cell_type": "code",
      "execution_count": 12,
      "id": "afa6555b",
      "metadata": {},
      "outputs": [],
      "source": [
        "for k, v in dict(paths_sorted).items():\n",
        "    if v[\"routes\"] == [4801, 4812, 4080, 4004, 4010]:\n",
        "        print(v[\"mean_delay\"])"
      ]
    },
    {
      "cell_type": "code",
      "execution_count": 13,
      "id": "800893b9",
      "metadata": {},
      "outputs": [],
      "source": [
        "# get names for the sorted path list to use in plots\n",
        "names_paths = []\n",
        "\n",
        "for path in paths_sorted:\n",
        "    names_paths.append(path[0].capitalize())"
      ]
    },
    {
      "cell_type": "code",
      "execution_count": 14,
      "id": "a58cc967",
      "metadata": {},
      "outputs": [
        {
          "data": {
            "image/png": "[encoded data removed]",
            "text/plain": [
              "<Figure size 325x200.861 with 2 Axes>"
            ]
          },
          "metadata": {},
          "output_type": "display_data"
        }
      ],
      "source": [
        "fig, (ax1, ax2) = plt.subplots(1, 2, sharey = True, gridspec_kw={'width_ratios': [210, 45]})\n",
        "fig.suptitle(\"Weekday\")\n",
        "\n",
        "for i in np.arange(10):\n",
        "    u_wd = np.random.rand(data_weekday_mean[data_weekday_mean.index.isin(paths_sorted[i][1][\"stations\"])].shape[0])\n",
        "    wd = data_weekday_mean[data_weekday_mean.index.isin(paths_sorted[i][1][\"stations\"])]\n",
        "    ax1.plot(wd, .8 + 0.4 * u_wd + 9 - i, \"o\", color=rgb.tue_red, alpha=0.5, mec = \"none\", ms = 2)\n",
        "    ax1.axvline(x=data_weekday_mean[data_weekday_mean.index.isin(paths_sorted[i][1][\"stations\"])].mean(), \n",
        "               ymin= (9 - i) * 0.1, ymax = (10 - i) * 0.1, color=rgb.tue_orange, linewidth = 0.7)\n",
        "    # ax.axvline(x=data_weekday_mean[data_weekday_mean.index.isin(paths_sorted[i][1][\"stations\"])].median(), \n",
        "    #            ymin= (9 - i) * 0.1, ymax = (10 - i) * 0.1, color=rgb.tue_gray, linewidth = 0.5)\n",
        "    ax1.axhline(i + 0.5, color = rgb.tue_dark, alpha = 0.25, ls = \"--\", linewidth = 0.5)\n",
        "\n",
        "    ax2.plot(wd, .8 + 0.4 * u_wd + 9 - i, \"o\", color=rgb.tue_red, alpha=0.5, mec = \"none\", ms = 2)\n",
        "    # ax.axvline(x=data_weekday_mean[data_weekday_mean.index.isin(paths_sorted[i][1][\"stations\"])].median(), \n",
        "    #            ymin= (9 - i) * 0.1, ymax = (10 - i) * 0.1, color=rgb.tue_gray, linewidth = 0.5)\n",
        "    ax2.axhline(i + 0.5, color = rgb.tue_dark, alpha = 0.25, ls = \"--\", linewidth = 0.5)\n",
        "\n",
        "\n",
        "ax1.axvline(x=data_weekday_mean[data_weekday_mean.index.isin(paths_sorted[0][1][\"stations\"])].mean(),\n",
        "           color=rgb.tue_orange, linewidth = 0.5, ls = \"--\", alpha = .7)\n",
        "\n",
        "ax2.axvline(x=data_weekday_mean[data_weekday_mean.index.isin(paths_sorted[0][1][\"stations\"])].mean(),\n",
        "           color=rgb.tue_orange, linewidth = 0.5, ls = \"--\", alpha = .7, label = \"Mean \\nPath35\")\n",
        "ax2.axvline(x=data_weekday_mean[data_weekday_mean.index.isin(paths_sorted[0][1][\"stations\"])].mean(), \n",
        "            ymin= (9 - i) * 0.1, ymax = (10 - i) * 0.1, color=rgb.tue_orange, linewidth = 0.5, label = \"Mean \\n/ path\")\n",
        "\n",
        "ax1.set_ylim(0.5, 10.5)\n",
        "ax1.set_yticks(range(1, 11, 1), names_paths[:10][::-1])\n",
        "\n",
        "ax1.set_xlim(-5, 205)\n",
        "ax2.set_xlim(375, 420)\n",
        "ax2.set_xticks([380, 400])\n",
        "\n",
        "fig.supxlabel('Delay (in minutes)')\n",
        "\n",
        "ax1.tick_params(axis='both', which='both',\n",
        "               bottom=True, top=False, labelbottom=True,\n",
        "               left=False, right=False, labelleft=True)\n",
        "ax2.tick_params(axis='both', which='both',\n",
        "               bottom=True, top=False, labelbottom=True,\n",
        "               left=False, right=False, labelleft=False)\n",
        "\n",
        "ax1.spines['right'].set_visible(False)\n",
        "ax2.spines['left'].set_visible(False)\n",
        "\n",
        "d = 1.2  # proportion of vertical to horizontal extent of the slanted line\n",
        "kwargs = dict(marker=[(-1, -d), (1, d)], markersize=4,\n",
        "              linestyle=\"none\", color='k', mec='k', mew=1, clip_on=False)\n",
        "ax1.plot([1, 1], [1, 0], transform=ax1.transAxes, **kwargs)\n",
        "ax2.plot([0, 0], [0, 1], transform=ax2.transAxes, **kwargs)\n",
        "\n",
        "#ax2.legend(loc = \"upper right\")\n",
        "\n",
        "fig.savefig(\"../doc/fig/plot_FP_01_Weekday.pdf\")"
      ]
    },
    {
      "cell_type": "code",
      "execution_count": 15,
      "id": "0ad28760",
      "metadata": {},
      "outputs": [
        {
          "data": {
            "image/png": "[encoded data removed]",
            "text/plain": [
              "<Figure size 325x200.861 with 2 Axes>"
            ]
          },
          "metadata": {},
          "output_type": "display_data"
        }
      ],
      "source": [
        "fig, (ax1, ax2) = plt.subplots(1, 2, sharey = True, gridspec_kw={'width_ratios': [56, 8]})\n",
        "fig.suptitle(\"Weekend\")\n",
        "fig.supxlabel(\"Delay (in minutes)\")\n",
        "\n",
        "for i in np.arange(10):\n",
        "    u_wd = np.random.rand(data_weekend_mean[data_weekend_mean.index.isin(paths_sorted[i][1][\"stations\"])].shape[0])\n",
        "    wd = data_weekend_mean[data_weekend_mean.index.isin(paths_sorted[i][1][\"stations\"])]\n",
        "    ax1.plot(wd, .8 + 0.4 * u_wd + 9 - i, \"o\", color=rgb.tue_blue, alpha=0.5, mec = \"none\", ms = 2)\n",
        "    ax1.axvline(x=data_weekend_mean[data_weekend_mean.index.isin(paths_sorted[i][1][\"stations\"])].mean(), \n",
        "               ymin= (9 - i) * 0.1, ymax = (10 - i) * 0.1, color=rgb.tue_orange, linewidth = 0.7)\n",
        "    # ax.axvline(x=data_weekend_mean[data_weekend_mean.index.isin(paths_sorted[i][1][\"stations\"])].median(), \n",
        "    #            ymin= (9 - i) * 0.1, ymax = (10 - i) * 0.1, color=rgb.tue_gray, linewidth = 0.5)\n",
        "    ax1.axhline(i + 0.5, color = rgb.tue_dark, alpha = 0.25, ls = \"--\", linewidth = 0.5)\n",
        "\n",
        "    ax2.plot(wd, .8 + 0.4 * u_wd + 9 - i, \"o\", color=rgb.tue_blue, alpha=0.5, mec = \"none\", ms = 2)\n",
        "    ax2.axvline(x=data_weekend_mean[data_weekend_mean.index.isin(paths_sorted[i][1][\"stations\"])].mean(), \n",
        "               ymin= (9 - i) * 0.1, ymax = (10 - i) * 0.1, color=rgb.tue_orange, linewidth = 0.5)\n",
        "    # ax.axvline(x=data_weekend_mean[data_weekend_mean.index.isin(paths_sorted[i][1][\"stations\"])].median(), \n",
        "    #            ymin= (9 - i) * 0.1, ymax = (10 - i) * 0.1, color=rgb.tue_gray, linewidth = 0.5)\n",
        "    ax2.axhline(i + 0.5, color = rgb.tue_dark, alpha = 0.25, ls = \"--\", linewidth = 0.5)\n",
        "\n",
        "ax1.axvline(x=data_weekend_mean[data_weekend_mean.index.isin(paths_sorted[0][1][\"stations\"])].mean(),\n",
        "           color=rgb.tue_orange, linewidth = 0.5, ls = \"--\", alpha = .7)\n",
        "\n",
        "ax2.axvline(x=data_weekend_mean[data_weekend_mean.index.isin(paths_sorted[0][1][\"stations\"])].mean(),\n",
        "           color=rgb.tue_orange, linewidth = 0.5, ls = \"--\", alpha = .7, label = \"Mean \\nPath35\")\n",
        "ax2.axvline(x=data_weekend_mean[data_weekend_mean.index.isin(paths_sorted[0][1][\"stations\"])].mean(), \n",
        "            ymin= (9 - i) * 0.1, ymax = (10 - i) * 0.1, color=rgb.tue_orange, linewidth = 0.5, label = \"Mean \\n/ path\")\n",
        "\n",
        "ax1.set_ylim(0.5, 10.5)\n",
        "ax1.set_yticks(range(1, 11, 1), names_paths[:10][::-1])\n",
        "\n",
        "ax1.set_xlim(-3, 53)\n",
        "ax2.set_xlim(112, 120)\n",
        "ax2.set_xticks([115, 120])\n",
        "\n",
        "ax1.tick_params(axis='both', which='both',\n",
        "               bottom=True, top=False, labelbottom=True,\n",
        "               left=False, right=False, labelleft=True)\n",
        "ax2.tick_params(axis='both', which='both',\n",
        "               bottom=True, top=False, labelbottom=True,\n",
        "               left=False, right=False, labelleft=False)\n",
        "\n",
        "ax1.spines['right'].set_visible(False)\n",
        "ax2.spines['left'].set_visible(False)\n",
        "\n",
        "d = 1.2  # proportion of vertical to horizontal extent of the slanted line\n",
        "kwargs = dict(marker=[(-1, -d), (1, d)], markersize=4,\n",
        "              linestyle=\"none\", color='k', mec='k', mew=1, clip_on=False)\n",
        "ax1.plot([1, 1], [1, 0], transform=ax1.transAxes, **kwargs)\n",
        "ax2.plot([0, 0], [0, 1], transform=ax2.transAxes, **kwargs)\n",
        "\n",
        "#ax2.legend(loc = \"upper right\")\n",
        "\n",
        "fig.savefig(\"../doc/fig/plot_FP_02_Weekend.pdf\")"
      ]
    },
    {
      "cell_type": "code",
      "execution_count": 16,
      "id": "72f1b6c9",
      "metadata": {},
      "outputs": [
        {
          "data": {
            "text/plain": [
              "54"
            ]
          },
          "execution_count": 16,
          "metadata": {},
          "output_type": "execute_result"
        }
      ],
      "source": [
        "paths_sorted[0][1][\"mean_delay\"]\n",
        "len(paths_sorted)"
      ]
    },
    {
      "cell_type": "code",
      "execution_count": 22,
      "id": "aa606cd4",
      "metadata": {},
      "outputs": [
        {
          "data": {
            "image/png": "[encoded data removed]",
            "text/plain": [
              "<Figure size 325x200.861 with 1 Axes>"
            ]
          },
          "metadata": {},
          "output_type": "display_data"
        }
      ],
      "source": [
        "fig, ax = plt.subplots()\n",
        "\n",
        "for i in np.arange(len(paths_sorted)):\n",
        "    wd = data_weekday_mean[data_weekday_mean.index.isin(paths_sorted[i][1][\"stations\"])].mean()\n",
        "    we = data_weekend_mean[data_weekend_mean.index.isin(paths_sorted[i][1][\"stations\"])].mean()\n",
        "    ax.plot(i + 1, paths_sorted[i][1][\"mean_delay\"], \"o\", color = rgb.tue_gold, alpha = 0.4, mec = \"none\", ms = 4, label = \"overall\")\n",
        "    ax.plot(i + 1, wd, \"o\", color = rgb.tue_ocre, alpha = 0.7, mec = \"none\", ms = 4, label = \"weekday\")\n",
        "    ax.plot(i + 1, we, \"o\", color = rgb.tue_blue, alpha = 0.7, mec = \"none\", ms = 4, label = \"weekend\")\n",
        "\n",
        "# ax.axhline(paths_sorted[0][1][\"mean_delay\"], color = rgb.tue_blue,\n",
        "#            ls = \"--\", alpha = 0.8, linewidth = 0.8)\n",
        "ax.axhline(data_weekday_mean[data_weekday_mean.index.isin(paths_sorted[0][1][\"stations\"])].mean(), color = rgb.tue_ocre,\n",
        "           ls = \"--\", alpha = 0.8, linewidth = 0.9)\n",
        "ax.axhline(data_weekend_mean[data_weekend_mean.index.isin(paths_sorted[0][1][\"stations\"])].mean(), color = rgb.tue_blue,\n",
        "           ls = \"--\", alpha = 0.8, linewidth = 0.9)\n",
        "\n",
        "ax.set_ylim(0, 40)\n",
        "ax.set_yticks(range(0, 41, 10))\n",
        "\n",
        "ax.set_xlim(0, 55)\n",
        "\n",
        "ax.legend([\"overall\", \"weekday\", \"weekend\"], loc=\"upper left\", framealpha=1.0, facecolor=\"white\", edgecolor=\"none\")\n",
        "\n",
        "ax.set_xlabel(\"Paths (sorted by overall mean delay)\")\n",
        "ax.set_ylabel(\"Delay (in minutes)\")\n",
        "\n",
        "#ax.xaxis.set_major_locator(ticker.MultipleLocator(10))\n",
        "#ax.xaxis.set_minor_locator(ticker.MultipleLocator(1))\n",
        "\n",
        "fig.savefig(\"../doc/fig/plot_FP_03_WeekdayWeekend.pdf\")\n",
        "plt.show()"
      ]
    },
    {
      "cell_type": "markdown",
      "id": "bf4a1930",
      "metadata": {},
      "source": [
        "#### Permutation Test for Weekend Paths (TO DO)"
      ]
    },
    {
      "cell_type": "code",
      "execution_count": 25,
      "id": "659c0c79",
      "metadata": {},
      "outputs": [
        {
          "name": "stdout",
          "output_type": "stream",
          "text": [
            "7.496328133211894\n",
            "7.550249414886154\n"
          ]
        }
      ],
      "source": [
        "print(data_weekend_mean[data_weekend_mean.index.isin(paths_sorted[0][1][\"stations\"])].mean())\n",
        "print(data_weekend_mean[data_weekend_mean.index.isin(paths_sorted[6][1][\"stations\"])].mean())"
      ]
    },
    {
      "cell_type": "code",
      "execution_count": null,
      "id": "e2d5fcb2",
      "metadata": {},
      "outputs": [],
      "source": [
        "n_we = data_weekend.shape[0] # number of weekends\n",
        "n_wd = data_weekday.shape[0] # number of weekdays\n",
        "\n",
        "N = n_we + n_we # total number of days\n",
        "Y = np.concatenate([data_weekend['Minutes of delay'].values, data_weekday['Minutes of delay'].values]) # all delay times, shape = (1, N)\n",
        "X = np.bool_(np.concatenate([np.ones(n_we),np.zeros(n_wd)])) # TRUE if girl, FALSE otherwise, shape = (1, N)"
      ]
    },
    {
      "cell_type": "code",
      "execution_count": null,
      "id": "2e4e0fbb",
      "metadata": {},
      "outputs": [],
      "source": [
        "rng = np.random.default_rng(1) # random number generator\n",
        "B = 4000 # number of permuations to produce\n",
        "\n",
        "# repeat Y (one row) B times, shape now = (B, N), then shuffle the columns\n",
        "X_permuted = rng.permuted(np.tile(X, (B,1)), axis=1) "
      ]
    },
    {
      "cell_type": "code",
      "execution_count": null,
      "id": "0357bfbc",
      "metadata": {},
      "outputs": [],
      "source": [
        "def T_mean(group):\n",
        "    '''How much faster is the average girl?'''\n",
        "    return np.mean(Y[~group]) - np.mean(Y[group])\n",
        "\n",
        "# the statistics for the original data\n",
        "mean_true = T_mean(X)\n",
        "\n",
        "# the statistics for the permuted data\n",
        "mean_dist = np.apply_along_axis(T_mean, 1, X_permuted)"
      ]
    },
    {
      "cell_type": "code",
      "execution_count": null,
      "id": "aeccfd4f",
      "metadata": {},
      "outputs": [
        {
          "data": {
            "image/png": "[encoded data removed]",
            "text/plain": [
              "<Figure size 325x200.861 with 1 Axes>"
            ]
          },
          "metadata": {},
          "output_type": "display_data"
        }
      ],
      "source": [
        "fig, ax = plt.subplots()\n",
        "\n",
        "bins = np.linspace(-20, 20, 101)\n",
        "ax.set_title('mean difference')\n",
        "ax.hist(mean_dist, bins=bins, density=True, label='$p_{H_0}(T)$', alpha=0.5, color=rgb.tue_dark)\n",
        "ax.axvline(mean_true, label='$T(X)$', alpha=1.0, color=rgb.tue_red)\n",
        "ax.legend(loc='upper left', frameon=False)\n",
        "#ax.yaxis.set_visible(False)\n",
        "ax.set_xlabel('$T$')\n",
        "\n",
        "plt.show()"
      ]
    },
    {
      "cell_type": "code",
      "execution_count": null,
      "id": "9bce77ab",
      "metadata": {},
      "outputs": [
        {
          "name": "stdout",
          "output_type": "stream",
          "text": [
            "1.0000000000000002\n"
          ]
        }
      ],
      "source": [
        "bins = np.linspace(-40, 40, 101)\n",
        "loc_data = np.argmax(bins >= mean_true)\n",
        "histogram,_ = np.histogram(mean_dist, bins=bins, density=True)\n",
        "empirical_cdf = np.cumsum(histogram) / np.sum(histogram)\n",
        "\n",
        "p_value = empirical_cdf[loc_data]\n",
        "print(p_value)"
      ]
    },
    {
      "cell_type": "code",
      "execution_count": null,
      "id": "1c57e505",
      "metadata": {},
      "outputs": [],
      "source": [
        "Y = np.concatenate([data_weekend[\"Minutes of delay\"].values, data_weekday[\"Minutes of delay\"].values]) # all race times, shape = (1, N)\n",
        "rng = np.random.default_rng(1) # random number generator\n",
        "B = 100000 # number of permuations to produce"
      ]
    },
    {
      "cell_type": "code",
      "execution_count": null,
      "id": "9aa5af4f",
      "metadata": {},
      "outputs": [
        {
          "data": {
            "text/plain": [
              "Text(0.5, 0, '$T$')"
            ]
          },
          "metadata": {},
          "output_type": "display_data"
        },
        {
          "data": {
            "image/png": "[encoded data removed]",
            "text/plain": [
              "<Figure size 325x200.861 with 4 Axes>"
            ]
          },
          "metadata": {},
          "output_type": "display_data"
        }
      ],
      "source": [
        "fig, axs = plt.subplots(1,4)\n",
        "\n",
        "ax = axs[0]\n",
        "bins = np.linspace(-15, 15, 31)\n",
        "ax.set_title('mean difference')\n",
        "ax.hist(mean_dist, bins=bins, density=True, label='$p_{H_0}(T)$', alpha=0.5, color=rgb.tue_dark)\n",
        "ax.axvline(mean_true, label='$T(X)$', alpha=1.0, color=rgb.tue_red)\n",
        "ax.legend(loc='upper right', frameon=False)\n",
        "ax.yaxis.set_visible(False)\n",
        "ax.set_xlabel('$T$')"
      ]
    }
  ],
  "metadata": {
    "colab": {
      "provenance": []
    },
    "kernelspec": {
      "display_name": "Python 3",
      "language": "python",
      "name": "python3"
    },
    "language_info": {
      "codemirror_mode": {
        "name": "ipython",
        "version": 3
      },
      "file_extension": ".py",
      "mimetype": "text/x-python",
      "name": "python",
      "nbconvert_exporter": "python",
      "pygments_lexer": "ipython3",
      "version": "3.11.6"
    }
  },
  "nbformat": 4,
  "nbformat_minor": 5
}
