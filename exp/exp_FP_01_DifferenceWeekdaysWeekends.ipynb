{
  "cells": [
    {
      "cell_type": "code",
      "execution_count": 149,
      "id": "9456cfe5",
      "metadata": {},
      "outputs": [],
      "source": [
        "import pandas as pd\n",
        "import numpy as np"
      ]
    },
    {
      "cell_type": "code",
      "execution_count": 150,
      "id": "743e46ea",
      "metadata": {},
      "outputs": [],
      "source": [
        "from ipynb.fs.full.exploration_cleaning import get_data, get_paths\n",
        "data = get_data()"
      ]
    },
    {
      "cell_type": "markdown",
      "id": "ababdd7d",
      "metadata": {},
      "source": [
        "### Difference between weekday and weekend."
      ]
    },
    {
      "cell_type": "code",
      "execution_count": 151,
      "id": "727728f6",
      "metadata": {},
      "outputs": [
        {
          "data": {
            "text/html": [
              "<div>\n",
              "<style scoped>\n",
              "    .dataframe tbody tr th:only-of-type {\n",
              "        vertical-align: middle;\n",
              "    }\n",
              "\n",
              "    .dataframe tbody tr th {\n",
              "        vertical-align: top;\n",
              "    }\n",
              "\n",
              "    .dataframe thead th {\n",
              "        text-align: right;\n",
              "    }\n",
              "</style>\n",
              "<table border=\"1\" class=\"dataframe\">\n",
              "  <thead>\n",
              "    <tr style=\"text-align: right;\">\n",
              "      <th></th>\n",
              "      <th>Station or stop</th>\n",
              "      <th>Date</th>\n",
              "      <th>Number of train rides</th>\n",
              "      <th>Minutes of delay</th>\n",
              "      <th>Name</th>\n",
              "      <th>Country</th>\n",
              "      <th>Coordinate Latitude</th>\n",
              "      <th>Coordinate Longitude</th>\n",
              "      <th>dayofweek</th>\n",
              "    </tr>\n",
              "  </thead>\n",
              "  <tbody>\n",
              "    <tr>\n",
              "      <th>0</th>\n",
              "      <td>80197079</td>\n",
              "      <td>2016-03-16</td>\n",
              "      <td>39</td>\n",
              "      <td>49</td>\n",
              "      <td>KINDSBACH</td>\n",
              "      <td>DEUTSCHLAND</td>\n",
              "      <td>49.420450</td>\n",
              "      <td>7.613668</td>\n",
              "      <td>2</td>\n",
              "    </tr>\n",
              "    <tr>\n",
              "      <th>1</th>\n",
              "      <td>80160168</td>\n",
              "      <td>2016-11-01</td>\n",
              "      <td>12</td>\n",
              "      <td>0</td>\n",
              "      <td>NIEDERTREBRA</td>\n",
              "      <td>DEUTSCHLAND</td>\n",
              "      <td>51.065500</td>\n",
              "      <td>11.580700</td>\n",
              "      <td>1</td>\n",
              "    </tr>\n",
              "    <tr>\n",
              "      <th>2</th>\n",
              "      <td>80105122</td>\n",
              "      <td>2016-04-30</td>\n",
              "      <td>16</td>\n",
              "      <td>2</td>\n",
              "      <td>HAMM FELDMARK</td>\n",
              "      <td>DEUTSCHLAND</td>\n",
              "      <td>51.697611</td>\n",
              "      <td>7.787870</td>\n",
              "      <td>5</td>\n",
              "    </tr>\n",
              "    <tr>\n",
              "      <th>3</th>\n",
              "      <td>80190793</td>\n",
              "      <td>2016-07-31</td>\n",
              "      <td>14</td>\n",
              "      <td>0</td>\n",
              "      <td>LUDWIGSHAFEN (RHEIN) BASF</td>\n",
              "      <td>DEUTSCHLAND</td>\n",
              "      <td>49.510682</td>\n",
              "      <td>8.428922</td>\n",
              "      <td>6</td>\n",
              "    </tr>\n",
              "    <tr>\n",
              "      <th>4</th>\n",
              "      <td>80231464</td>\n",
              "      <td>2016-05-04</td>\n",
              "      <td>10</td>\n",
              "      <td>2</td>\n",
              "      <td>BURGKEMNITZ</td>\n",
              "      <td>DEUTSCHLAND</td>\n",
              "      <td>51.689400</td>\n",
              "      <td>12.407990</td>\n",
              "      <td>2</td>\n",
              "    </tr>\n",
              "  </tbody>\n",
              "</table>\n",
              "</div>"
            ],
            "text/plain": [
              "   Station or stop       Date  Number of train rides  Minutes of delay  \\\n",
              "0         80197079 2016-03-16                     39                49   \n",
              "1         80160168 2016-11-01                     12                 0   \n",
              "2         80105122 2016-04-30                     16                 2   \n",
              "3         80190793 2016-07-31                     14                 0   \n",
              "4         80231464 2016-05-04                     10                 2   \n",
              "\n",
              "                        Name      Country  Coordinate Latitude  \\\n",
              "0                  KINDSBACH  DEUTSCHLAND            49.420450   \n",
              "1               NIEDERTREBRA  DEUTSCHLAND            51.065500   \n",
              "2              HAMM FELDMARK  DEUTSCHLAND            51.697611   \n",
              "3  LUDWIGSHAFEN (RHEIN) BASF  DEUTSCHLAND            49.510682   \n",
              "4                BURGKEMNITZ  DEUTSCHLAND            51.689400   \n",
              "\n",
              "   Coordinate Longitude  dayofweek  \n",
              "0              7.613668          2  \n",
              "1             11.580700          1  \n",
              "2              7.787870          5  \n",
              "3              8.428922          6  \n",
              "4             12.407990          2  "
            ]
          },
          "execution_count": 151,
          "metadata": {},
          "output_type": "execute_result"
        }
      ],
      "source": [
        "# Turn strings in to pandas date.\n",
        "data['Date'] = pd.to_datetime(data['Date'], yearfirst = True)\n",
        "# Get the day of the week for each date.\n",
        "data['dayofweek'] = data['Date'].dt.dayofweek\n",
        "data.head()"
      ]
    },
    {
      "cell_type": "code",
      "execution_count": 152,
      "id": "11f0bab2",
      "metadata": {},
      "outputs": [],
      "source": [
        "data_weekday = data.loc[data['dayofweek'].isin([0, 1, 2, 3, 4])]\n",
        "data_weekend = data.loc[data['dayofweek'].isin([5, 6])]"
      ]
    },
    {
      "cell_type": "code",
      "execution_count": 153,
      "id": "5c82b25f",
      "metadata": {},
      "outputs": [
        {
          "data": {
            "text/plain": [
              "<Axes: >"
            ]
          },
          "execution_count": 153,
          "metadata": {},
          "output_type": "execute_result"
        },
        {
          "data": {
            "image/png": "[encoded data removed]",
            "text/plain": [
              "<Figure size 325x200.861 with 1 Axes>"
            ]
          },
          "metadata": {},
          "output_type": "display_data"
        }
      ],
      "source": [
        "data_weekday[\"Minutes of delay\"].hist(bins = 100, rwidth = 0.8, density = True, alpha = .7)\n",
        "data_weekend[\"Minutes of delay\"].hist(bins = 100, rwidth = 0.8, density = True, alpha = .7)"
      ]
    },
    {
      "cell_type": "code",
      "execution_count": 154,
      "id": "c98ed1ba",
      "metadata": {},
      "outputs": [
        {
          "data": {
            "text/html": [
              "<div>\n",
              "<style scoped>\n",
              "    .dataframe tbody tr th:only-of-type {\n",
              "        vertical-align: middle;\n",
              "    }\n",
              "\n",
              "    .dataframe tbody tr th {\n",
              "        vertical-align: top;\n",
              "    }\n",
              "\n",
              "    .dataframe thead th {\n",
              "        text-align: right;\n",
              "    }\n",
              "</style>\n",
              "<table border=\"1\" class=\"dataframe\">\n",
              "  <thead>\n",
              "    <tr style=\"text-align: right;\">\n",
              "      <th></th>\n",
              "      <th>Station or stop</th>\n",
              "      <th>Date</th>\n",
              "      <th>Number of train rides</th>\n",
              "      <th>Minutes of delay</th>\n",
              "      <th>Name</th>\n",
              "      <th>Country</th>\n",
              "      <th>Coordinate Latitude</th>\n",
              "      <th>Coordinate Longitude</th>\n",
              "      <th>dayofweek</th>\n",
              "    </tr>\n",
              "  </thead>\n",
              "  <tbody>\n",
              "    <tr>\n",
              "      <th>0</th>\n",
              "      <td>80197079</td>\n",
              "      <td>2016-03-16</td>\n",
              "      <td>39</td>\n",
              "      <td>49</td>\n",
              "      <td>KINDSBACH</td>\n",
              "      <td>DEUTSCHLAND</td>\n",
              "      <td>49.420450</td>\n",
              "      <td>7.613668</td>\n",
              "      <td>2</td>\n",
              "    </tr>\n",
              "    <tr>\n",
              "      <th>1</th>\n",
              "      <td>80160168</td>\n",
              "      <td>2016-11-01</td>\n",
              "      <td>12</td>\n",
              "      <td>0</td>\n",
              "      <td>NIEDERTREBRA</td>\n",
              "      <td>DEUTSCHLAND</td>\n",
              "      <td>51.065500</td>\n",
              "      <td>11.580700</td>\n",
              "      <td>1</td>\n",
              "    </tr>\n",
              "    <tr>\n",
              "      <th>4</th>\n",
              "      <td>80231464</td>\n",
              "      <td>2016-05-04</td>\n",
              "      <td>10</td>\n",
              "      <td>2</td>\n",
              "      <td>BURGKEMNITZ</td>\n",
              "      <td>DEUTSCHLAND</td>\n",
              "      <td>51.689400</td>\n",
              "      <td>12.407990</td>\n",
              "      <td>2</td>\n",
              "    </tr>\n",
              "    <tr>\n",
              "      <th>5</th>\n",
              "      <td>80020644</td>\n",
              "      <td>2016-10-04</td>\n",
              "      <td>34</td>\n",
              "      <td>0</td>\n",
              "      <td>HERBERTSHOFEN</td>\n",
              "      <td>DEUTSCHLAND</td>\n",
              "      <td>48.529570</td>\n",
              "      <td>10.849300</td>\n",
              "      <td>1</td>\n",
              "    </tr>\n",
              "    <tr>\n",
              "      <th>6</th>\n",
              "      <td>80042267</td>\n",
              "      <td>2016-04-15</td>\n",
              "      <td>43</td>\n",
              "      <td>116</td>\n",
              "      <td>HOSENA</td>\n",
              "      <td>DEUTSCHLAND</td>\n",
              "      <td>51.454332</td>\n",
              "      <td>14.017600</td>\n",
              "      <td>4</td>\n",
              "    </tr>\n",
              "    <tr>\n",
              "      <th>...</th>\n",
              "      <td>...</td>\n",
              "      <td>...</td>\n",
              "      <td>...</td>\n",
              "      <td>...</td>\n",
              "      <td>...</td>\n",
              "      <td>...</td>\n",
              "      <td>...</td>\n",
              "      <td>...</td>\n",
              "      <td>...</td>\n",
              "    </tr>\n",
              "    <tr>\n",
              "      <th>766023</th>\n",
              "      <td>80136234</td>\n",
              "      <td>2016-10-26</td>\n",
              "      <td>82</td>\n",
              "      <td>0</td>\n",
              "      <td>UELZEN</td>\n",
              "      <td>DEUTSCHLAND</td>\n",
              "      <td>52.964129</td>\n",
              "      <td>10.546461</td>\n",
              "      <td>2</td>\n",
              "    </tr>\n",
              "    <tr>\n",
              "      <th>766024</th>\n",
              "      <td>80100388</td>\n",
              "      <td>2016-01-29</td>\n",
              "      <td>33</td>\n",
              "      <td>2</td>\n",
              "      <td>HERNE</td>\n",
              "      <td>DEUTSCHLAND</td>\n",
              "      <td>51.542128</td>\n",
              "      <td>7.211104</td>\n",
              "      <td>4</td>\n",
              "    </tr>\n",
              "    <tr>\n",
              "      <th>766025</th>\n",
              "      <td>80143321</td>\n",
              "      <td>2016-05-30</td>\n",
              "      <td>40</td>\n",
              "      <td>0</td>\n",
              "      <td>KOLLMARSREUTE</td>\n",
              "      <td>DEUTSCHLAND</td>\n",
              "      <td>48.099070</td>\n",
              "      <td>7.887097</td>\n",
              "      <td>0</td>\n",
              "    </tr>\n",
              "    <tr>\n",
              "      <th>766026</th>\n",
              "      <td>80174508</td>\n",
              "      <td>2016-07-05</td>\n",
              "      <td>14</td>\n",
              "      <td>0</td>\n",
              "      <td>NEUKIRCHEN (B SULZBACH-ROSENBERG)</td>\n",
              "      <td>DEUTSCHLAND</td>\n",
              "      <td>49.525068</td>\n",
              "      <td>11.620659</td>\n",
              "      <td>1</td>\n",
              "    </tr>\n",
              "    <tr>\n",
              "      <th>766027</th>\n",
              "      <td>80136267</td>\n",
              "      <td>2016-02-09</td>\n",
              "      <td>84</td>\n",
              "      <td>19</td>\n",
              "      <td>KLEIN SUESTEDT</td>\n",
              "      <td>DEUTSCHLAND</td>\n",
              "      <td>52.933832</td>\n",
              "      <td>10.491081</td>\n",
              "      <td>1</td>\n",
              "    </tr>\n",
              "  </tbody>\n",
              "</table>\n",
              "<p>604074 rows × 9 columns</p>\n",
              "</div>"
            ],
            "text/plain": [
              "        Station or stop       Date  Number of train rides  Minutes of delay  \\\n",
              "0              80197079 2016-03-16                     39                49   \n",
              "1              80160168 2016-11-01                     12                 0   \n",
              "4              80231464 2016-05-04                     10                 2   \n",
              "5              80020644 2016-10-04                     34                 0   \n",
              "6              80042267 2016-04-15                     43               116   \n",
              "...                 ...        ...                    ...               ...   \n",
              "766023         80136234 2016-10-26                     82                 0   \n",
              "766024         80100388 2016-01-29                     33                 2   \n",
              "766025         80143321 2016-05-30                     40                 0   \n",
              "766026         80174508 2016-07-05                     14                 0   \n",
              "766027         80136267 2016-02-09                     84                19   \n",
              "\n",
              "                                     Name      Country  Coordinate Latitude  \\\n",
              "0                               KINDSBACH  DEUTSCHLAND            49.420450   \n",
              "1                            NIEDERTREBRA  DEUTSCHLAND            51.065500   \n",
              "4                             BURGKEMNITZ  DEUTSCHLAND            51.689400   \n",
              "5                           HERBERTSHOFEN  DEUTSCHLAND            48.529570   \n",
              "6                                  HOSENA  DEUTSCHLAND            51.454332   \n",
              "...                                   ...          ...                  ...   \n",
              "766023                             UELZEN  DEUTSCHLAND            52.964129   \n",
              "766024                              HERNE  DEUTSCHLAND            51.542128   \n",
              "766025                      KOLLMARSREUTE  DEUTSCHLAND            48.099070   \n",
              "766026  NEUKIRCHEN (B SULZBACH-ROSENBERG)  DEUTSCHLAND            49.525068   \n",
              "766027                     KLEIN SUESTEDT  DEUTSCHLAND            52.933832   \n",
              "\n",
              "        Coordinate Longitude  dayofweek  \n",
              "0                   7.613668          2  \n",
              "1                  11.580700          1  \n",
              "4                  12.407990          2  \n",
              "5                  10.849300          1  \n",
              "6                  14.017600          4  \n",
              "...                      ...        ...  \n",
              "766023             10.546461          2  \n",
              "766024              7.211104          4  \n",
              "766025              7.887097          0  \n",
              "766026             11.620659          1  \n",
              "766027             10.491081          1  \n",
              "\n",
              "[604074 rows x 9 columns]"
            ]
          },
          "execution_count": 154,
          "metadata": {},
          "output_type": "execute_result"
        }
      ],
      "source": [
        "data_weekday"
      ]
    },
    {
      "cell_type": "markdown",
      "id": "e7b55521",
      "metadata": {},
      "source": [
        "#### Calculate mean for every station by weekday or weekend"
      ]
    },
    {
      "cell_type": "code",
      "execution_count": 155,
      "id": "149b81de",
      "metadata": {},
      "outputs": [],
      "source": [
        "data_weekday_mean = data_weekday.groupby('Station or stop')['Minutes of delay'].mean()\n",
        "data_weekend_mean = data_weekend.groupby('Station or stop')['Minutes of delay'].mean()\n",
        "data_by_weekday_weekend = pd.merge(data_weekday_mean, data_weekend_mean, how = \"left\", on = \"Station or stop\", suffixes = (\"_weekday\", \"_weekend\"))"
      ]
    },
    {
      "cell_type": "code",
      "execution_count": 156,
      "id": "9a905c64",
      "metadata": {},
      "outputs": [
        {
          "data": {
            "text/plain": [
              "Minutes of delay_weekday    80031732\n",
              "Minutes of delay_weekend    80031732\n",
              "dtype: int64"
            ]
          },
          "execution_count": 156,
          "metadata": {},
          "output_type": "execute_result"
        }
      ],
      "source": [
        "data_by_weekday_weekend.idxmax()"
      ]
    },
    {
      "cell_type": "code",
      "execution_count": 157,
      "id": "f18dac63",
      "metadata": {},
      "outputs": [],
      "source": [
        "from tueplots import bundles\n",
        "from tueplots.constants.color import rgb\n",
        "from matplotlib import ticker\n",
        "import matplotlib.pyplot as plt"
      ]
    },
    {
      "cell_type": "code",
      "execution_count": 158,
      "id": "04349629",
      "metadata": {},
      "outputs": [
        {
          "data": {
            "image/png": "[encoded data removed]",
            "text/plain": [
              "<Figure size 325x200.861 with 1 Axes>"
            ]
          },
          "metadata": {},
          "output_type": "display_data"
        }
      ],
      "source": [
        "plt.rcParams.update(bundles.icml2022(column=\"half\", nrows=1, ncols=1, usetex=False))\n",
        "\n",
        "fig, ax = plt.subplots()\n",
        "ax.set_title(\"Train Delays\")\n",
        "ax.set_xlabel(\"Delay in Minutes\")\n",
        "\n",
        "N = data_by_weekday_weekend.shape[0] # number of stations\n",
        "\n",
        "np.random.seed(1)\n",
        "u_we = u_wd = np.random.rand(N)\n",
        "\n",
        "ax.plot(\n",
        "    data_by_weekday_weekend[\"Minutes of delay_weekday\"], 1 + 0.5 * u_wd, \"o\", label=\"Weekday\", color=rgb.tue_blue, alpha=0.5, mec = \"none\", ms = 3\n",
        ")\n",
        "ax.plot(\n",
        "    data_by_weekday_weekend[\"Minutes of delay_weekend\"], 0.5 * u_we, \"o\", label=\"Weekend\", color=rgb.tue_red, alpha=0.5, mec = \"none\", ms = 3\n",
        ")\n",
        "\n",
        "ax.axvline(x=data_by_weekday_weekend[\"Minutes of delay_weekend\"].median(), ymax = 0.5, color=rgb.tue_red)\n",
        "ax.axvline(x=data_by_weekday_weekend[\"Minutes of delay_weekday\"].median(), ymin = 0.5, color=rgb.tue_blue)\n",
        "\n",
        "# set the x-axis formatter to the custom function\n",
        "ax.xaxis.set_major_locator(ticker.MultipleLocator(10))\n",
        "ax.xaxis.set_minor_locator(ticker.MultipleLocator(1))\n",
        "ax.legend(loc = 'center right', framealpha = 1.0, facecolor = 'white', edgecolor = 'none')\n",
        "ax.grid(axis = 'x', which = 'major', alpha = 0.5)\n",
        "ax.yaxis.set_visible(False)\n",
        "ax.axhline(0.75, color = rgb.tue_dark, alpha = 0.5)\n",
        "ax.set_ylim(-0.25, 1.75)\n",
        "ax.set_xscale('log')\n",
        "\n",
        "plt.show()"
      ]
    },
    {
      "cell_type": "code",
      "execution_count": 17,
      "id": "c35e9710",
      "metadata": {},
      "outputs": [],
      "source": [
        "n_we = data_weekend.shape[0] # number of weekends\n",
        "n_wd = data_weekday.shape[0] # number of weekdays\n",
        "\n",
        "N = n_we + n_we # total number of days\n",
        "Y = np.concatenate([data_weekend['Minutes of delay'].values, data_weekday['Minutes of delay'].values]) # all delay times, shape = (1, N)\n",
        "X = np.bool_(np.concatenate([np.ones(n_we),np.zeros(n_wd)])) # TRUE if girl, FALSE otherwise, shape = (1, N)"
      ]
    },
    {
      "cell_type": "code",
      "execution_count": 18,
      "id": "381ede20",
      "metadata": {},
      "outputs": [],
      "source": [
        "rng = np.random.default_rng(1) # random number generator\n",
        "B = 4000 # number of permuations to produce\n",
        "\n",
        "# repeat Y (one row) B times, shape now = (B, N), then shuffle the columns\n",
        "X_permuted = rng.permuted(np.tile(X, (B,1)), axis=1) "
      ]
    },
    {
      "cell_type": "code",
      "execution_count": 19,
      "id": "3e199923",
      "metadata": {},
      "outputs": [],
      "source": [
        "def T_mean(group):\n",
        "    '''How much faster is the average girl?'''\n",
        "    return np.mean(Y[~group]) - np.mean(Y[group])\n",
        "\n",
        "# the statistics for the original data\n",
        "mean_true = T_mean(X)\n",
        "\n",
        "# the statistics for the permuted data\n",
        "mean_dist = np.apply_along_axis(T_mean, 1, X_permuted)"
      ]
    },
    {
      "cell_type": "code",
      "execution_count": 20,
      "id": "cde010f2",
      "metadata": {},
      "outputs": [
        {
          "data": {
            "image/png": "[encoded data removed]",
            "text/plain": [
              "<Figure size 325x200.861 with 1 Axes>"
            ]
          },
          "metadata": {},
          "output_type": "display_data"
        }
      ],
      "source": [
        "fig, ax = plt.subplots()\n",
        "\n",
        "bins = np.linspace(-20, 20, 101)\n",
        "ax.set_title('mean difference')\n",
        "ax.hist(mean_dist, bins=bins, density=True, label='$p_{H_0}(T)$', alpha=0.5, color=rgb.tue_dark)\n",
        "ax.axvline(mean_true, label='$T(X)$', alpha=1.0, color=rgb.tue_red)\n",
        "ax.legend(loc='upper left', frameon=False)\n",
        "#ax.yaxis.set_visible(False)\n",
        "ax.set_xlabel('$T$')\n",
        "\n",
        "plt.show()"
      ]
    },
    {
      "cell_type": "code",
      "execution_count": 21,
      "id": "9ea99789",
      "metadata": {},
      "outputs": [
        {
          "name": "stdout",
          "output_type": "stream",
          "text": [
            "1.0000000000000002\n"
          ]
        }
      ],
      "source": [
        "bins = np.linspace(-40, 40, 101)\n",
        "loc_data = np.argmax(bins >= mean_true)\n",
        "histogram,_ = np.histogram(mean_dist, bins=bins, density=True)\n",
        "empirical_cdf = np.cumsum(histogram) / np.sum(histogram)\n",
        "\n",
        "p_value = empirical_cdf[loc_data]\n",
        "print(p_value)"
      ]
    },
    {
      "cell_type": "code",
      "execution_count": 22,
      "id": "8bc1584b",
      "metadata": {},
      "outputs": [
        {
          "data": {
            "text/plain": [
              "53.94466240891017"
            ]
          },
          "execution_count": 22,
          "metadata": {},
          "output_type": "execute_result"
        }
      ],
      "source": [
        "data_weekday[\"Minutes of delay\"].mean()"
      ]
    },
    {
      "cell_type": "code",
      "execution_count": 23,
      "id": "714649e1",
      "metadata": {},
      "outputs": [
        {
          "data": {
            "text/plain": [
              "31.541367788508694"
            ]
          },
          "execution_count": 23,
          "metadata": {},
          "output_type": "execute_result"
        }
      ],
      "source": [
        "data_weekend[\"Minutes of delay\"].mean()"
      ]
    },
    {
      "cell_type": "code",
      "execution_count": 24,
      "id": "f1d5cd34",
      "metadata": {},
      "outputs": [],
      "source": [
        "Y = np.concatenate([data_weekend[\"Minutes of delay\"].values, data_weekday[\"Minutes of delay\"].values]) # all race times, shape = (1, N)\n",
        "rng = np.random.default_rng(1) # random number generator\n",
        "B = 100000 # number of permuations to produce"
      ]
    },
    {
      "cell_type": "code",
      "execution_count": 25,
      "id": "87d0bd4a",
      "metadata": {},
      "outputs": [
        {
          "data": {
            "text/plain": [
              "Text(0.5, 0, '$T$')"
            ]
          },
          "execution_count": 25,
          "metadata": {},
          "output_type": "execute_result"
        },
        {
          "data": {
            "image/png": "[encoded data removed]",
            "text/plain": [
              "<Figure size 325x200.861 with 4 Axes>"
            ]
          },
          "metadata": {},
          "output_type": "display_data"
        }
      ],
      "source": [
        "fig, axs = plt.subplots(1,4)\n",
        "\n",
        "ax = axs[0]\n",
        "bins = np.linspace(-15, 15, 31)\n",
        "ax.set_title('mean difference')\n",
        "ax.hist(mean_dist, bins=bins, density=True, label='$p_{H_0}(T)$', alpha=0.5, color=rgb.tue_dark)\n",
        "ax.axvline(mean_true, label='$T(X)$', alpha=1.0, color=rgb.tue_red)\n",
        "ax.legend(loc='upper right', frameon=False)\n",
        "ax.yaxis.set_visible(False)\n",
        "ax.set_xlabel('$T$')"
      ]
    },
    {
      "cell_type": "markdown",
      "id": "be43859e",
      "metadata": {},
      "source": [
        "### Make visualisations for each path"
      ]
    },
    {
      "cell_type": "code",
      "execution_count": 159,
      "id": "1df73090",
      "metadata": {},
      "outputs": [],
      "source": [
        "paths = get_paths()"
      ]
    },
    {
      "cell_type": "code",
      "execution_count": 160,
      "id": "9624e78d",
      "metadata": {},
      "outputs": [],
      "source": [
        "paths_sorted = sorted(paths.items(), key = lambda x: x[1][\"mean_delay\"])"
      ]
    },
    {
      "cell_type": "code",
      "execution_count": 161,
      "id": "f84e27e8",
      "metadata": {},
      "outputs": [
        {
          "name": "stdout",
          "output_type": "stream",
          "text": [
            "[4801, 4080, 4020, 3522, 3603]\n",
            "21.74441228493327\n"
          ]
        }
      ],
      "source": [
        "print(paths_sorted[0][1][\"routes\"])\n",
        "print(paths_sorted[0][1][\"mean_delay\"])"
      ]
    },
    {
      "cell_type": "code",
      "execution_count": 104,
      "id": "afa6555b",
      "metadata": {},
      "outputs": [
        {
          "name": "stdout",
          "output_type": "stream",
          "text": [
            "29.078882294757666\n"
          ]
        }
      ],
      "source": [
        "for k, v in dict(paths_sorted).items():\n",
        "    if v[\"routes\"] == [4801, 4812, 4080, 4004, 4010]:\n",
        "        print(v[\"mean_delay\"])"
      ]
    },
    {
      "cell_type": "code",
      "execution_count": 128,
      "id": "09f0858d",
      "metadata": {},
      "outputs": [
        {
          "data": {
            "text/plain": [
              "Station or stop\n",
              "80010561      0.000000\n",
              "80010579     11.809735\n",
              "80010587      0.000000\n",
              "80010660    436.559735\n",
              "80010694    114.602881\n",
              "               ...    \n",
              "80944025      0.000000\n",
              "80944033      0.000000\n",
              "80944348      1.936170\n",
              "80980961      0.000000\n",
              "80981043      0.013761\n",
              "Name: Minutes of delay, Length: 3105, dtype: float64"
            ]
          },
          "execution_count": 128,
          "metadata": {},
          "output_type": "execute_result"
        }
      ],
      "source": [
        "data_weekday_mean"
      ]
    },
    {
      "cell_type": "code",
      "execution_count": 130,
      "id": "177e4555",
      "metadata": {},
      "outputs": [
        {
          "name": "stdout",
          "output_type": "stream",
          "text": [
            "24.228150604760046\n",
            "10.096065873741994\n"
          ]
        }
      ],
      "source": [
        "print(data_weekday[data_weekday[\"Station or stop\"].isin(paths_sorted[0][1][\"stations\"])][\"Minutes of delay\"].mean())\n",
        "print(data_weekend[data_weekend[\"Station or stop\"].isin(paths_sorted[0][1][\"stations\"])][\"Minutes of delay\"].mean())"
      ]
    },
    {
      "cell_type": "code",
      "execution_count": 112,
      "id": "f1e2a998",
      "metadata": {},
      "outputs": [
        {
          "name": "stdout",
          "output_type": "stream",
          "text": [
            "19.328461244221902\n",
            "7.496328133211894\n",
            "22.11295919588369\n"
          ]
        },
        {
          "data": {
            "text/plain": [
              "Station or stop\n",
              "80106948      7.807512\n",
              "80110155     39.257692\n",
              "80110999      2.615385\n",
              "80111062      4.750000\n",
              "80111187      1.820513\n",
              "80111195      1.333333\n",
              "80111203     44.377778\n",
              "80111229      2.575758\n",
              "80114728     66.054545\n",
              "80117119      3.841121\n",
              "80141465      1.000000\n",
              "80142620      3.167513\n",
              "80142786      3.051724\n",
              "80142877      2.072626\n",
              "80143909      1.500000\n",
              "80144147      1.740566\n",
              "80145615     14.213930\n",
              "80145623      0.000000\n",
              "80145631      0.000000\n",
              "80145672      0.000000\n",
              "80147116     19.662281\n",
              "80178368      1.612903\n",
              "80180919     65.087336\n",
              "80190512     67.836689\n",
              "80190561     31.264151\n",
              "80190579      1.292453\n",
              "80190587     15.203791\n",
              "80190595      5.488152\n",
              "80190603      3.105263\n",
              "80190611      5.429245\n",
              "80190637      1.924883\n",
              "80190645      1.720379\n",
              "80190728      9.897321\n",
              "80190736     17.718750\n",
              "80190777    179.600877\n",
              "80290155     21.030568\n",
              "80290163     31.008734\n",
              "80297770      4.315000\n",
              "80297788      4.125628\n",
              "80297846     11.609756\n",
              "80297853      2.361702\n",
              "80298034      4.859903\n",
              "dtype: float64"
            ]
          },
          "execution_count": 112,
          "metadata": {},
          "output_type": "execute_result"
        }
      ],
      "source": [
        "print(data_by_weekday_weekend[data_by_weekday_weekend.index.isin(paths_sorted[0][1][\"stations\"])][\"Minutes of delay_weekday\"].mean())\n",
        "print(data_by_weekday_weekend[data_by_weekday_weekend.index.isin(paths_sorted[2][1][\"stations\"])][\"Minutes of delay_weekend\"].mean())\n",
        "print(paths_sorted[2][1][\"mean_delay\"])\n",
        "(data_by_weekday_weekend[data_by_weekday_weekend.index.isin(paths_sorted[2][1][\"stations\"])][\"Minutes of delay_weekday\"] + \n",
        " data_by_weekday_weekend[data_by_weekday_weekend.index.isin(paths_sorted[2][1][\"stations\"])][\"Minutes of delay_weekend\"].isna())"
      ]
    },
    {
      "cell_type": "code",
      "execution_count": 133,
      "id": "a58cc967",
      "metadata": {},
      "outputs": [
        {
          "data": {
            "image/png": "[encoded data removed]",
            "text/plain": [
              "<Figure size 325x200.861 with 1 Axes>"
            ]
          },
          "metadata": {},
          "output_type": "display_data"
        }
      ],
      "source": [
        "fig, ax = plt.subplots()\n",
        "ax.set_title(\"Weekday\")\n",
        "ax.set_xlabel(\"Delay (in minutes)\")\n",
        "\n",
        "for i in np.arange(10):\n",
        "    u_wd = np.random.rand(data_weekday[data_weekday[\"Station or stop\"].isin(paths_sorted[i][1][\"stations\"])][\"Minutes of delay\"].shape[0])\n",
        "    wd = data_weekday[data_weekday[\"Station or stop\"].isin(paths_sorted[i][1][\"stations\"])][\"Minutes of delay\"]\n",
        "    ax.plot(wd, 0.1 + 0.3 * u_wd + i, \"o\", color=rgb.tue_red, alpha=0.5, mec = \"none\", ms = 2)\n",
        "   # ax.axvline(x=data_by_weekday_weekend[data_by_weekday_weekend.index.isin(paths_sorted[i][1][\"stations\"])][\"Minutes of delay_weekday\"].mean(), \n",
        "    #           ymin= i * 0.1, ymax = (i + 1) * 0.1, color=rgb.tue_red)\n",
        "\n",
        "ax.set_xscale('log')\n",
        "\n",
        "fig.savefig(\"../doc/fig/plot_FP_01_Weekday.pdf\")"
      ]
    },
    {
      "cell_type": "code",
      "execution_count": 50,
      "id": "0ad28760",
      "metadata": {},
      "outputs": [
        {
          "data": {
            "image/png": "[encoded data removed]",
            "text/plain": [
              "<Figure size 325x200.861 with 1 Axes>"
            ]
          },
          "metadata": {},
          "output_type": "display_data"
        }
      ],
      "source": [
        "fig, ax = plt.subplots()\n",
        "ax.set_title(\"Weekend\")\n",
        "ax.set_xlabel(\"Delay (in minutes)\")\n",
        "\n",
        "for i in np.arange(10):\n",
        "    u_we = np.random.rand(data_by_weekday_weekend[data_by_weekday_weekend.index.isin(paths_sorted[i][1][\"stations\"])][\"Minutes of delay_weekend\"].shape[0])\n",
        "    we = data_by_weekday_weekend[data_by_weekday_weekend.index.isin(paths_sorted[i][1][\"stations\"])][\"Minutes of delay_weekend\"]\n",
        "    ax.plot(we, 0.6 + 0.3 * u_we + i, \"o\", color=rgb.tue_blue, alpha=0.5, mec = \"none\", ms = 2)\n",
        "    ax.axvline(x=data_by_weekday_weekend[data_by_weekday_weekend.index.isin(paths_sorted[i][1][\"stations\"])][\"Minutes of delay_weekend\"].mean(), \n",
        "               ymin= i * 0.1, ymax = (i + 1) * 0.1, color=rgb.tue_blue)\n",
        "\n",
        "\n",
        "ax.set_xscale('log')\n",
        "\n",
        "fig.savefig(\"../doc/fig/plot_FP_01_Weekend.pdf\")"
      ]
    },
    {
      "cell_type": "code",
      "execution_count": 30,
      "id": "bfb1d9b5",
      "metadata": {},
      "outputs": [
        {
          "data": {
            "text/plain": [
              "Station or stop\n",
              "80042358      0.000000\n",
              "80106948      7.807512\n",
              "80110155     39.257692\n",
              "80110999      1.615385\n",
              "80111062      4.750000\n",
              "80111187      1.820513\n",
              "80111195      1.333333\n",
              "80111203     44.377778\n",
              "80111229      2.575758\n",
              "80114728     66.054545\n",
              "80117119      3.841121\n",
              "80140517    118.888393\n",
              "80140624     36.209607\n",
              "80140640      0.000000\n",
              "80140665     48.288210\n",
              "80140673      0.000000\n",
              "80140699      0.000000\n",
              "80140707     16.314410\n",
              "80141465      0.000000\n",
              "80142281     27.104651\n",
              "80142349     10.756881\n",
              "80142356     16.949772\n",
              "80142364      0.000000\n",
              "80142372      7.109589\n",
              "80142620      2.167513\n",
              "80142786      2.051724\n",
              "80142877      1.072626\n",
              "80143909      0.500000\n",
              "80144147      1.740566\n",
              "80145615     13.213930\n",
              "80145649     37.659389\n",
              "80145664      4.339535\n",
              "80147116     19.662281\n",
              "80178368      1.612903\n",
              "80180919     65.087336\n",
              "80181321     43.109170\n",
              "80190512     67.836689\n",
              "80190561     31.264151\n",
              "80190579      1.292453\n",
              "80190587     15.203791\n",
              "80190595      5.488152\n",
              "80190603      3.105263\n",
              "80190611      5.429245\n",
              "80190637      1.924883\n",
              "80190645      1.720379\n",
              "80190728      9.897321\n",
              "80190736     17.718750\n",
              "80190777    179.600877\n",
              "80290155     21.030568\n",
              "80290163     31.008734\n",
              "80297770      3.315000\n",
              "80297788      3.125628\n",
              "80297846     10.609756\n",
              "80297853      1.361702\n",
              "80298034      4.859903\n",
              "Name: Minutes of delay_weekday, dtype: float64"
            ]
          },
          "execution_count": 30,
          "metadata": {},
          "output_type": "execute_result"
        }
      ],
      "source": [
        "data_by_weekday_weekend[data_by_weekday_weekend.index.isin(paths_sorted[0][1][\"stations\"])][\"Minutes of delay_weekday\"]"
      ]
    },
    {
      "cell_type": "code",
      "execution_count": null,
      "id": "d8460830",
      "metadata": {},
      "outputs": [],
      "source": []
    }
  ],
  "metadata": {
    "colab": {
      "provenance": []
    },
    "kernelspec": {
      "display_name": "Python 3",
      "language": "python",
      "name": "python3"
    },
    "language_info": {
      "codemirror_mode": {
        "name": "ipython",
        "version": 3
      },
      "file_extension": ".py",
      "mimetype": "text/x-python",
      "name": "python",
      "nbconvert_exporter": "python",
      "pygments_lexer": "ipython3",
      "version": "3.11.6"
    }
  },
  "nbformat": 4,
  "nbformat_minor": 5
}
