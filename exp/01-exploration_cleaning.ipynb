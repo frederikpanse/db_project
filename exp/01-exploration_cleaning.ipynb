{
 "cells": [
  {
   "cell_type": "markdown",
   "metadata": {},
   "source": [
    "# Read data"
   ]
  },
  {
   "cell_type": "code",
   "execution_count": 1,
   "metadata": {
    "ExecuteTime": {
     "end_time": "2024-01-17T10:54:06.472964Z",
     "start_time": "2024-01-17T10:53:57.800119Z"
    }
   },
   "outputs": [],
   "source": [
    "import pandas as pd\n",
    "import numpy as np"
   ]
  },
  {
   "cell_type": "code",
   "outputs": [],
   "source": [
    "# read data with the number of train rides and the minutes of delay\n",
    "data_rides = pd.read_csv(\"../dat/Zugfahrten_2016_12.csv\", sep = \";\", encoding = \"latin-1\")\n",
    "\n",
    "# rename columns (english translation)\n",
    "data_rides.columns = [\"Station or stop\", \"Country\", \"Date\", \"Number of train rides\", \"Minutes of delay\"]"
   ],
   "metadata": {
    "collapsed": false,
    "ExecuteTime": {
     "end_time": "2024-01-17T10:54:47.154024Z",
     "start_time": "2024-01-17T10:54:46.555652Z"
    }
   },
   "execution_count": 3
  },
  {
   "cell_type": "code",
   "outputs": [],
   "source": [
    "# read data with the coordinates of the stations\n",
    "data_stations = pd.read_csv(\"../dat/GEO_Bahnstellen_EXPORT.csv\", sep = \";\", encoding = \"latin-1\")\n",
    "\n",
    "# rename columns (english translation)\n",
    "data_stations.columns = [\"Station or stop\", \"Name\", \"Country\", \"Coordinate Latitude\", \"Coordinate Longitude\"]"
   ],
   "metadata": {
    "collapsed": false,
    "ExecuteTime": {
     "end_time": "2024-01-17T10:54:53.530340Z",
     "start_time": "2024-01-17T10:54:53.458066Z"
    }
   },
   "execution_count": 4
  },
  {
   "cell_type": "code",
   "outputs": [
    {
     "data": {
      "text/plain": "766028"
     },
     "execution_count": 6,
     "metadata": {},
     "output_type": "execute_result"
    }
   ],
   "source": [
    "# merge the two dataframes\n",
    "data = pd.merge(data_rides, data_stations, on = \"Station or stop\")\n",
    "data = data.drop([\"Country_x\"], axis = 1)\n",
    "\n",
    "# rename the column \"Country_y\" to \"Country\"\n",
    "data = data.rename(columns = {\"Country_y\": \"Country\"})\n",
    "len(data)"
   ],
   "metadata": {
    "collapsed": false,
    "ExecuteTime": {
     "end_time": "2024-01-17T10:55:03.063760Z",
     "start_time": "2024-01-17T10:55:02.633702Z"
    }
   },
   "execution_count": 6
  },
  {
   "cell_type": "markdown",
   "metadata": {},
   "source": [
    "# Take a look..."
   ]
  },
  {
   "cell_type": "code",
   "execution_count": null,
   "metadata": {
    "ExecuteTime": {
     "end_time": "2024-01-17T10:54:06.903226Z",
     "start_time": "2024-01-17T10:54:06.902433Z"
    }
   },
   "outputs": [],
   "source": [
    "data.head()"
   ]
  },
  {
   "cell_type": "code",
   "execution_count": null,
   "metadata": {
    "ExecuteTime": {
     "start_time": "2024-01-17T10:54:06.905389Z"
    }
   },
   "outputs": [],
   "source": [
    "# histogram of the number of train rides\n",
    "data[\"Number of train rides\"].hist(bins = 30, rwidth = 0.8)"
   ]
  },
  {
   "cell_type": "code",
   "execution_count": null,
   "metadata": {
    "ExecuteTime": {
     "start_time": "2024-01-17T10:54:06.908919Z"
    }
   },
   "outputs": [],
   "source": [
    "# histogram of the minutes of delay\n",
    "data[\"Minutes of delay\"].hist(bins = 30, rwidth = 0.8)"
   ]
  },
  {
   "cell_type": "code",
   "execution_count": null,
   "metadata": {
    "ExecuteTime": {
     "end_time": "2024-01-17T10:54:06.914641Z",
     "start_time": "2024-01-17T10:54:06.911759Z"
    }
   },
   "outputs": [],
   "source": [
    "# histogram of the minutes of delay per country\n",
    "data.groupby(\"Country\")[\"Minutes of delay\"].mean().plot(kind = \"bar\")"
   ]
  },
  {
   "cell_type": "markdown",
   "metadata": {},
   "source": [
    "# Data cleaning"
   ]
  },
  {
   "cell_type": "code",
   "execution_count": null,
   "metadata": {
    "ExecuteTime": {
     "end_time": "2024-01-17T10:54:06.915676Z",
     "start_time": "2024-01-17T10:54:06.915136Z"
    }
   },
   "outputs": [],
   "source": [
    "# 1) Include only values for Germany\n",
    "data = data[data['Country'] == \"DEUTSCHLAND\"]\n",
    "\n",
    "# check if it worked\n",
    "print(len(data))\n",
    "print(data['Country'].unique())"
   ]
  },
  {
   "cell_type": "code",
   "execution_count": null,
   "metadata": {
    "ExecuteTime": {
     "start_time": "2024-01-17T10:54:06.916945Z"
    }
   },
   "outputs": [],
   "source": [
    "# 2) Missing values\n",
    "\n",
    "# check for missing values\n",
    "data.isnull().sum()\n",
    "\n",
    "# drop rows with missing values\n",
    "data = data.dropna(axis = 0, how = \"any\")\n",
    "\n",
    "# check if it worked\n",
    "print(len(data))\n",
    "data.isnull().sum()"
   ]
  },
  {
   "cell_type": "code",
   "execution_count": null,
   "metadata": {
    "ExecuteTime": {
     "start_time": "2024-01-17T10:54:06.918735Z"
    }
   },
   "outputs": [],
   "source": [
    "# 3) Calculate mean for every station\n",
    "\n",
    "# drop columns that are not needed\n",
    "data_mean = data.drop(columns = [\"Date\", \"Country\", \"Coordinate Latitude\", \"Coordinate Longitude\", \"Name\"])\n",
    "data_mean = data_mean.groupby([\"Station or stop\"]).mean()\n",
    "\n",
    "# get the names of the stations\n",
    "data_names = data.drop(columns = [\"Date\", \"Country\", \"Number of train rides\", \"Minutes of delay\"])\n",
    "data_names = data_names.drop_duplicates()\n",
    "\n",
    "# merge the two dataframes\n",
    "data_mean = pd.merge(data_names, data_mean, on = \"Station or stop\", how = \"left\")"
   ]
  },
  {
   "cell_type": "code",
   "execution_count": null,
   "metadata": {
    "ExecuteTime": {
     "start_time": "2024-01-17T10:54:06.920781Z"
    }
   },
   "outputs": [],
   "source": [
    "# check if it worked\n",
    "data_mean"
   ]
  },
  {
   "cell_type": "code",
   "execution_count": null,
   "metadata": {
    "ExecuteTime": {
     "start_time": "2024-01-17T10:54:06.922883Z"
    }
   },
   "outputs": [],
   "source": [
    "# check if it worked\n",
    "print(len(data_mean))\n",
    "\n",
    "print(len(data_mean[\"Name\"].unique()))\n",
    "\n",
    "print(len(data_mean[\"Station or stop\"].unique()))"
   ]
  },
  {
   "cell_type": "code",
   "execution_count": null,
   "metadata": {
    "ExecuteTime": {
     "end_time": "2024-01-17T10:54:06.946144Z",
     "start_time": "2024-01-17T10:54:06.924750Z"
    }
   },
   "outputs": [],
   "source": [
    "# 4) drop stations with less than 10 train rides in mean\n",
    "data_mean = data_mean[data_mean[\"Number of train rides\"] >= 10]"
   ]
  }
 ],
 "metadata": {
  "kernelspec": {
   "display_name": "Python 3",
   "language": "python",
   "name": "python3"
  },
  "language_info": {
   "name": "python",
   "version": "3.11.6"
  }
 },
 "nbformat": 4,
 "nbformat_minor": 2
}
